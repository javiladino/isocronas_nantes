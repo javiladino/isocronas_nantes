{
  "nbformat": 4,
  "nbformat_minor": 0,
  "metadata": {
    "colab": {
      "provenance": []
    },
    "kernelspec": {
      "name": "python3",
      "display_name": "Python 3"
    },
    "language_info": {
      "name": "python"
    }
  },
  "cells": [
    {
      "cell_type": "code",
      "execution_count": 1,
      "metadata": {
        "colab": {
          "base_uri": "https://localhost:8080/"
        },
        "id": "INBR-jpv6aYp",
        "outputId": "87d5b723-1870-4660-f6e1-1cc71d5ea002"
      },
      "outputs": [
        {
          "output_type": "stream",
          "name": "stdout",
          "text": [
            "Looking in indexes: https://pypi.org/simple, https://us-python.pkg.dev/colab-wheels/public/simple/\n",
            "Requirement already satisfied: folium in /usr/local/lib/python3.10/dist-packages (0.14.0)\n",
            "Requirement already satisfied: requests in /usr/local/lib/python3.10/dist-packages (2.27.1)\n",
            "Requirement already satisfied: shapely in /usr/local/lib/python3.10/dist-packages (2.0.1)\n",
            "Requirement already satisfied: branca>=0.6.0 in /usr/local/lib/python3.10/dist-packages (from folium) (0.6.0)\n",
            "Requirement already satisfied: jinja2>=2.9 in /usr/local/lib/python3.10/dist-packages (from folium) (3.1.2)\n",
            "Requirement already satisfied: numpy in /usr/local/lib/python3.10/dist-packages (from folium) (1.22.4)\n",
            "Requirement already satisfied: urllib3<1.27,>=1.21.1 in /usr/local/lib/python3.10/dist-packages (from requests) (1.26.15)\n",
            "Requirement already satisfied: certifi>=2017.4.17 in /usr/local/lib/python3.10/dist-packages (from requests) (2022.12.7)\n",
            "Requirement already satisfied: charset-normalizer~=2.0.0 in /usr/local/lib/python3.10/dist-packages (from requests) (2.0.12)\n",
            "Requirement already satisfied: idna<4,>=2.5 in /usr/local/lib/python3.10/dist-packages (from requests) (3.4)\n",
            "Requirement already satisfied: MarkupSafe>=2.0 in /usr/local/lib/python3.10/dist-packages (from jinja2>=2.9->folium) (2.1.2)\n"
          ]
        }
      ],
      "source": [
        "!pip install folium requests shapely"
      ]
    },
    {
      "cell_type": "code",
      "source": [
        "import folium\n",
        "import requests\n",
        "from shapely.geometry import Polygon\n",
        "from shapely.ops import cascaded_union\n",
        "\n",
        "# Define la ubicación y el punto de partida (Nantes, Francia)\n",
        "lat = 47.23864\n",
        "lon = -1.53362\n",
        "\n",
        "# Define los intervalos de tiempo en minutos para las isócronas\n",
        "intervalos = [5, 10, 15]  # Ajustados a 5, 10 y 15 minutos\n",
        "\n",
        "# Define el token de acceso al servicio de isócronas\n",
        "token = \"Copia y pega tu propio token"  # Reemplaza con tu propio token\n",
        "\n",
        "# Crea un mapa interactivo utilizando Folium\n",
        "mapa = folium.Map(location=[lat, lon], zoom_start=15)\n",
        "\n",
        "# Recorre los intervalos de tiempo y obtiene las isócronas\n",
        "for intervalo in intervalos:\n",
        "    # Construye la URL de la solicitud de isócrona\n",
        "    url = f\"https://api.mapbox.com/isochrone/v1/mapbox/walking/{lon},{lat}?contours_minutes={intervalo}&polygons=true&access_token={token}\"\n",
        "    \n",
        "    # Realiza la solicitud HTTP y obtiene los datos de la respuesta\n",
        "    response = requests.get(url)\n",
        "    data = response.json()\n",
        "    \n",
        "    # Extrae las coordenadas de los polígonos de isócrona\n",
        "    coordenadas = data[\"features\"][0][\"geometry\"][\"coordinates\"]\n",
        "    \n",
        "    # Crea un polígono de Shapely y agrega los puntos del polígono\n",
        "    poligono = Polygon(coordenadas[0])\n",
        "    \n",
        "    # Agrega el polígono al mapa como una capa GeoJSON\n",
        "    folium.GeoJson(\n",
        "        data=data,\n",
        "        style_function=lambda x: {'fillColor': '#e26e4d', 'color': '#ea4141', 'weight': 1, 'fillOpacity': 0.3},\n",
        "        name=f\"{intervalo} min\"\n",
        "    ).add_to(mapa)\n",
        "\n",
        "# Agrega una capa de control para alternar la visualización de las isócronas\n",
        "folium.LayerControl().add_to(mapa)\n",
        "\n",
        "# Guarda el mapa interactivo como un archivo HTML\n",
        "mapa.save(\"webmap.html\")\n"
      ],
      "metadata": {
        "id": "rKfZM_CU6dXO"
      },
      "execution_count": 12,
      "outputs": []
    }
  ]
}